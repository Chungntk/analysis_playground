{
 "cells": [
  {
   "attachments": {},
   "cell_type": "markdown",
   "metadata": {},
   "source": [
    "#### Loading and explore data\n",
    "Summary basic explore data in project"
   ]
  },
  {
   "cell_type": "code",
   "execution_count": 1,
   "metadata": {},
   "outputs": [
    {
     "data": {
      "text/html": [
       "<div>\n",
       "<style scoped>\n",
       "    .dataframe tbody tr th:only-of-type {\n",
       "        vertical-align: middle;\n",
       "    }\n",
       "\n",
       "    .dataframe tbody tr th {\n",
       "        vertical-align: top;\n",
       "    }\n",
       "\n",
       "    .dataframe thead th {\n",
       "        text-align: right;\n",
       "    }\n",
       "</style>\n",
       "<table border=\"1\" class=\"dataframe\">\n",
       "  <thead>\n",
       "    <tr style=\"text-align: right;\">\n",
       "      <th></th>\n",
       "      <th>CustomerID</th>\n",
       "      <th>InvoiceNo</th>\n",
       "      <th>InvoiceDate</th>\n",
       "      <th>StockCode</th>\n",
       "      <th>Quantity</th>\n",
       "      <th>UnitPrice</th>\n",
       "    </tr>\n",
       "  </thead>\n",
       "  <tbody>\n",
       "    <tr>\n",
       "      <th>0</th>\n",
       "      <td>13047</td>\n",
       "      <td>536367</td>\n",
       "      <td>2010-12-01 08:34:00</td>\n",
       "      <td>84879</td>\n",
       "      <td>32</td>\n",
       "      <td>1.69</td>\n",
       "    </tr>\n",
       "    <tr>\n",
       "      <th>1</th>\n",
       "      <td>13047</td>\n",
       "      <td>536367</td>\n",
       "      <td>2010-12-01 08:34:00</td>\n",
       "      <td>22745</td>\n",
       "      <td>6</td>\n",
       "      <td>2.10</td>\n",
       "    </tr>\n",
       "    <tr>\n",
       "      <th>2</th>\n",
       "      <td>13047</td>\n",
       "      <td>536367</td>\n",
       "      <td>2010-12-01 08:34:00</td>\n",
       "      <td>22748</td>\n",
       "      <td>6</td>\n",
       "      <td>2.10</td>\n",
       "    </tr>\n",
       "    <tr>\n",
       "      <th>3</th>\n",
       "      <td>13047</td>\n",
       "      <td>536367</td>\n",
       "      <td>2010-12-01 08:34:00</td>\n",
       "      <td>22749</td>\n",
       "      <td>8</td>\n",
       "      <td>3.75</td>\n",
       "    </tr>\n",
       "    <tr>\n",
       "      <th>4</th>\n",
       "      <td>13047</td>\n",
       "      <td>536367</td>\n",
       "      <td>2010-12-01 08:34:00</td>\n",
       "      <td>22310</td>\n",
       "      <td>6</td>\n",
       "      <td>1.65</td>\n",
       "    </tr>\n",
       "  </tbody>\n",
       "</table>\n",
       "</div>"
      ],
      "text/plain": [
       "   CustomerID  InvoiceNo         InvoiceDate StockCode  Quantity  UnitPrice\n",
       "0       13047     536367 2010-12-01 08:34:00     84879        32       1.69\n",
       "1       13047     536367 2010-12-01 08:34:00     22745         6       2.10\n",
       "2       13047     536367 2010-12-01 08:34:00     22748         6       2.10\n",
       "3       13047     536367 2010-12-01 08:34:00     22749         8       3.75\n",
       "4       13047     536367 2010-12-01 08:34:00     22310         6       1.65"
      ]
     },
     "execution_count": 1,
     "metadata": {},
     "output_type": "execute_result"
    }
   ],
   "source": [
    "import pandas as pd\n",
    "import matplotlib.pyplot as plt\n",
    "df = pd.read_excel(\"https://ucarecdn.com/82a291a5-5617-4ca7-aba3-54e1707785c3/retail_data_s.xlsx\")\n",
    "df.head()"
   ]
  },
  {
   "cell_type": "code",
   "execution_count": 2,
   "metadata": {},
   "outputs": [
    {
     "data": {
      "text/html": [
       "<div>\n",
       "<style scoped>\n",
       "    .dataframe tbody tr th:only-of-type {\n",
       "        vertical-align: middle;\n",
       "    }\n",
       "\n",
       "    .dataframe tbody tr th {\n",
       "        vertical-align: top;\n",
       "    }\n",
       "\n",
       "    .dataframe thead th {\n",
       "        text-align: right;\n",
       "    }\n",
       "</style>\n",
       "<table border=\"1\" class=\"dataframe\">\n",
       "  <thead>\n",
       "    <tr style=\"text-align: right;\">\n",
       "      <th></th>\n",
       "      <th>CustomerID</th>\n",
       "      <th>InvoiceNo</th>\n",
       "      <th>Quantity</th>\n",
       "      <th>UnitPrice</th>\n",
       "    </tr>\n",
       "  </thead>\n",
       "  <tbody>\n",
       "    <tr>\n",
       "      <th>count</th>\n",
       "      <td>91465.000000</td>\n",
       "      <td>91465.000000</td>\n",
       "      <td>91465.000000</td>\n",
       "      <td>91465.000000</td>\n",
       "    </tr>\n",
       "    <tr>\n",
       "      <th>mean</th>\n",
       "      <td>15101.770426</td>\n",
       "      <td>560116.483114</td>\n",
       "      <td>12.352386</td>\n",
       "      <td>2.943347</td>\n",
       "    </tr>\n",
       "    <tr>\n",
       "      <th>std</th>\n",
       "      <td>1756.168325</td>\n",
       "      <td>13205.742026</td>\n",
       "      <td>40.065201</td>\n",
       "      <td>8.776144</td>\n",
       "    </tr>\n",
       "    <tr>\n",
       "      <th>min</th>\n",
       "      <td>12347.000000</td>\n",
       "      <td>536367.000000</td>\n",
       "      <td>1.000000</td>\n",
       "      <td>0.000000</td>\n",
       "    </tr>\n",
       "    <tr>\n",
       "      <th>25%</th>\n",
       "      <td>13488.000000</td>\n",
       "      <td>548739.000000</td>\n",
       "      <td>2.000000</td>\n",
       "      <td>1.250000</td>\n",
       "    </tr>\n",
       "    <tr>\n",
       "      <th>50%</th>\n",
       "      <td>14944.000000</td>\n",
       "      <td>560841.000000</td>\n",
       "      <td>6.000000</td>\n",
       "      <td>1.690000</td>\n",
       "    </tr>\n",
       "    <tr>\n",
       "      <th>75%</th>\n",
       "      <td>16628.000000</td>\n",
       "      <td>571676.000000</td>\n",
       "      <td>12.000000</td>\n",
       "      <td>3.750000</td>\n",
       "    </tr>\n",
       "    <tr>\n",
       "      <th>max</th>\n",
       "      <td>18287.000000</td>\n",
       "      <td>581582.000000</td>\n",
       "      <td>2880.000000</td>\n",
       "      <td>1241.980000</td>\n",
       "    </tr>\n",
       "  </tbody>\n",
       "</table>\n",
       "</div>"
      ],
      "text/plain": [
       "         CustomerID      InvoiceNo      Quantity     UnitPrice\n",
       "count  91465.000000   91465.000000  91465.000000  91465.000000\n",
       "mean   15101.770426  560116.483114     12.352386      2.943347\n",
       "std     1756.168325   13205.742026     40.065201      8.776144\n",
       "min    12347.000000  536367.000000      1.000000      0.000000\n",
       "25%    13488.000000  548739.000000      2.000000      1.250000\n",
       "50%    14944.000000  560841.000000      6.000000      1.690000\n",
       "75%    16628.000000  571676.000000     12.000000      3.750000\n",
       "max    18287.000000  581582.000000   2880.000000   1241.980000"
      ]
     },
     "execution_count": 2,
     "metadata": {},
     "output_type": "execute_result"
    }
   ],
   "source": [
    "df.describe()"
   ]
  },
  {
   "cell_type": "code",
   "execution_count": 7,
   "metadata": {},
   "outputs": [
    {
     "data": {
      "image/png": "[encoded data removed]",
      "text/plain": [
       "<Figure size 432x288 with 1 Axes>"
      ]
     },
     "execution_count": 7,
     "metadata": {},
     "output_type": "execute_result"
    },
    {
     "data": {
      "image/png": "[encoded data removed]",
      "text/plain": [
       "<Figure size 432x288 with 1 Axes>"
      ]
     },
     "metadata": {
      "needs_background": "light"
     },
     "output_type": "display_data"
    }
   ],
   "source": [
    "df['Quantity'].plot.hist().get_figure()"
   ]
  },
  {
   "cell_type": "code",
   "execution_count": 3,
   "metadata": {},
   "outputs": [
    {
     "data": {
      "text/plain": [
       "<Figure size 432x288 with 0 Axes>"
      ]
     },
     "metadata": {},
     "output_type": "display_data"
    }
   ],
   "source": [
    "df['Quantity'].plot.hist().get_figure().savefig('quantity1.png')\n",
    "plt.clf()"
   ]
  },
  {
   "cell_type": "code",
   "execution_count": 6,
   "metadata": {},
   "outputs": [
    {
     "data": {
      "text/plain": [
       "<Figure size 432x288 with 0 Axes>"
      ]
     },
     "metadata": {},
     "output_type": "display_data"
    }
   ],
   "source": [
    "df[df['Quantity'] < 12]['Quantity'].plot.hist().get_figure().savefig('quantity2.png')\n",
    "plt.clf()"
   ]
  },
  {
   "cell_type": "code",
   "execution_count": 8,
   "metadata": {},
   "outputs": [
    {
     "data": {
      "text/plain": [
       "<Figure size 432x288 with 0 Axes>"
      ]
     },
     "metadata": {},
     "output_type": "display_data"
    }
   ],
   "source": [
    "df[df['Quantity'] >= 12]['Quantity'].plot.hist().get_figure().savefig('quantity3.png')\n",
    "plt.clf()"
   ]
  },
  {
   "cell_type": "code",
   "execution_count": 9,
   "metadata": {},
   "outputs": [
    {
     "data": {
      "text/plain": [
       "<Figure size 432x288 with 0 Axes>"
      ]
     },
     "metadata": {},
     "output_type": "display_data"
    }
   ],
   "source": [
    "df[df['Quantity'] >= 500]['Quantity'].plot.hist().get_figure().savefig('quantity4.png')\n",
    "plt.clf()"
   ]
  },
  {
   "cell_type": "code",
   "execution_count": 10,
   "metadata": {},
   "outputs": [
    {
     "data": {
      "text/html": [
       "<div>\n",
       "<style scoped>\n",
       "    .dataframe tbody tr th:only-of-type {\n",
       "        vertical-align: middle;\n",
       "    }\n",
       "\n",
       "    .dataframe tbody tr th {\n",
       "        vertical-align: top;\n",
       "    }\n",
       "\n",
       "    .dataframe thead th {\n",
       "        text-align: right;\n",
       "    }\n",
       "</style>\n",
       "<table border=\"1\" class=\"dataframe\">\n",
       "  <thead>\n",
       "    <tr style=\"text-align: right;\">\n",
       "      <th></th>\n",
       "      <th>CustomerID</th>\n",
       "      <th>InvoiceNo</th>\n",
       "      <th>Quantity</th>\n",
       "      <th>UnitPrice</th>\n",
       "    </tr>\n",
       "  </thead>\n",
       "  <tbody>\n",
       "    <tr>\n",
       "      <th>count</th>\n",
       "      <td>91453.000000</td>\n",
       "      <td>91453.000000</td>\n",
       "      <td>91453.000000</td>\n",
       "      <td>91453.000000</td>\n",
       "    </tr>\n",
       "    <tr>\n",
       "      <th>mean</th>\n",
       "      <td>15101.926137</td>\n",
       "      <td>560116.346965</td>\n",
       "      <td>12.352214</td>\n",
       "      <td>2.943733</td>\n",
       "    </tr>\n",
       "    <tr>\n",
       "      <th>std</th>\n",
       "      <td>1756.155070</td>\n",
       "      <td>13205.343483</td>\n",
       "      <td>40.067608</td>\n",
       "      <td>8.776655</td>\n",
       "    </tr>\n",
       "    <tr>\n",
       "      <th>min</th>\n",
       "      <td>12347.000000</td>\n",
       "      <td>536367.000000</td>\n",
       "      <td>1.000000</td>\n",
       "      <td>0.040000</td>\n",
       "    </tr>\n",
       "    <tr>\n",
       "      <th>25%</th>\n",
       "      <td>13488.000000</td>\n",
       "      <td>548739.000000</td>\n",
       "      <td>2.000000</td>\n",
       "      <td>1.250000</td>\n",
       "    </tr>\n",
       "    <tr>\n",
       "      <th>50%</th>\n",
       "      <td>14944.000000</td>\n",
       "      <td>560841.000000</td>\n",
       "      <td>6.000000</td>\n",
       "      <td>1.690000</td>\n",
       "    </tr>\n",
       "    <tr>\n",
       "      <th>75%</th>\n",
       "      <td>16628.000000</td>\n",
       "      <td>571676.000000</td>\n",
       "      <td>12.000000</td>\n",
       "      <td>3.750000</td>\n",
       "    </tr>\n",
       "    <tr>\n",
       "      <th>max</th>\n",
       "      <td>18287.000000</td>\n",
       "      <td>581582.000000</td>\n",
       "      <td>2880.000000</td>\n",
       "      <td>1241.980000</td>\n",
       "    </tr>\n",
       "  </tbody>\n",
       "</table>\n",
       "</div>"
      ],
      "text/plain": [
       "         CustomerID      InvoiceNo      Quantity     UnitPrice\n",
       "count  91453.000000   91453.000000  91453.000000  91453.000000\n",
       "mean   15101.926137  560116.346965     12.352214      2.943733\n",
       "std     1756.155070   13205.343483     40.067608      8.776655\n",
       "min    12347.000000  536367.000000      1.000000      0.040000\n",
       "25%    13488.000000  548739.000000      2.000000      1.250000\n",
       "50%    14944.000000  560841.000000      6.000000      1.690000\n",
       "75%    16628.000000  571676.000000     12.000000      3.750000\n",
       "max    18287.000000  581582.000000   2880.000000   1241.980000"
      ]
     },
     "execution_count": 10,
     "metadata": {},
     "output_type": "execute_result"
    }
   ],
   "source": [
    "filter = df['UnitPrice'] != 0\n",
    "df = df.loc[filter]\n",
    "df.describe()"
   ]
  },
  {
   "cell_type": "code",
   "execution_count": 11,
   "metadata": {},
   "outputs": [
    {
     "data": {
      "text/plain": [
       "<Figure size 432x288 with 0 Axes>"
      ]
     },
     "metadata": {},
     "output_type": "display_data"
    }
   ],
   "source": [
    "df['UnitPrice'].plot.hist().get_figure().savefig('unitprice1.png')\n",
    "plt.clf()"
   ]
  },
  {
   "cell_type": "code",
   "execution_count": 12,
   "metadata": {},
   "outputs": [
    {
     "name": "stdout",
     "output_type": "stream",
     "text": [
      "          UnitPrice                \n",
      "                min      mean   max\n",
      "StockCode                          \n",
      "16045          0.04  0.040000  0.04\n",
      "16259          0.08  0.080000  0.08\n",
      "17136A         0.08  0.080000  0.08\n",
      "17038          0.07  0.085000  0.10\n",
      "16161G         0.10  0.100000  0.10\n",
      "20668          0.10  0.119474  0.12\n",
      "21402          0.12  0.120000  0.12\n",
      "21401          0.12  0.120000  0.12\n",
      "16049          0.12  0.120000  0.12\n",
      "47013C         0.12  0.120000  0.12\n",
      "          UnitPrice                     \n",
      "                min        mean      max\n",
      "StockCode                               \n",
      "84632         59.95   59.950000    59.95\n",
      "22929         65.00   65.000000    65.00\n",
      "22823        110.00  117.500000   125.00\n",
      "22827        145.00  159.285714   165.00\n",
      "22828        145.00  155.000000   165.00\n",
      "22826         85.00  125.000000   195.00\n",
      "22655        125.00  176.000000   295.00\n",
      "22656        125.00  149.285714   295.00\n",
      "POST           4.00   22.568049   300.00\n",
      "M              0.08   91.965143  1241.98\n"
     ]
    }
   ],
   "source": [
    "stock_codes_grouped = (df\n",
    "                       .groupby(\"StockCode\")\n",
    "                       .agg({'UnitPrice' : ['min', 'mean', 'max']})\n",
    "                       .sort_values([('UnitPrice', 'max')])\n",
    ")\n",
    "print(stock_codes_grouped.head(10))\n",
    "print(stock_codes_grouped.tail(10))"
   ]
  },
  {
   "cell_type": "code",
   "execution_count": 13,
   "metadata": {},
   "outputs": [
    {
     "data": {
      "text/plain": [
       "70"
      ]
     },
     "execution_count": 13,
     "metadata": {},
     "output_type": "execute_result"
    }
   ],
   "source": [
    "filter = df['StockCode'] == \"M\"\n",
    "len(df[filter])"
   ]
  },
  {
   "cell_type": "code",
   "execution_count": 14,
   "metadata": {},
   "outputs": [
    {
     "data": {
      "text/plain": [
       "205"
      ]
     },
     "execution_count": 14,
     "metadata": {},
     "output_type": "execute_result"
    }
   ],
   "source": [
    "filter = df['StockCode'] == \"POST\"\n",
    "len(df[filter])"
   ]
  },
  {
   "cell_type": "code",
   "execution_count": 15,
   "metadata": {},
   "outputs": [
    {
     "data": {
      "text/html": [
       "<div>\n",
       "<style scoped>\n",
       "    .dataframe tbody tr th:only-of-type {\n",
       "        vertical-align: middle;\n",
       "    }\n",
       "\n",
       "    .dataframe tbody tr th {\n",
       "        vertical-align: top;\n",
       "    }\n",
       "\n",
       "    .dataframe thead th {\n",
       "        text-align: right;\n",
       "    }\n",
       "</style>\n",
       "<table border=\"1\" class=\"dataframe\">\n",
       "  <thead>\n",
       "    <tr style=\"text-align: right;\">\n",
       "      <th></th>\n",
       "      <th>CustomerID</th>\n",
       "      <th>InvoiceNo</th>\n",
       "      <th>Quantity</th>\n",
       "      <th>UnitPrice</th>\n",
       "    </tr>\n",
       "  </thead>\n",
       "  <tbody>\n",
       "    <tr>\n",
       "      <th>count</th>\n",
       "      <td>91178.000000</td>\n",
       "      <td>91178.000000</td>\n",
       "      <td>91178.000000</td>\n",
       "      <td>91178.000000</td>\n",
       "    </tr>\n",
       "    <tr>\n",
       "      <th>mean</th>\n",
       "      <td>15107.486707</td>\n",
       "      <td>560121.814637</td>\n",
       "      <td>12.329465</td>\n",
       "      <td>2.831267</td>\n",
       "    </tr>\n",
       "    <tr>\n",
       "      <th>std</th>\n",
       "      <td>1754.016176</td>\n",
       "      <td>13203.249840</td>\n",
       "      <td>39.399646</td>\n",
       "      <td>4.437374</td>\n",
       "    </tr>\n",
       "    <tr>\n",
       "      <th>min</th>\n",
       "      <td>12347.000000</td>\n",
       "      <td>536367.000000</td>\n",
       "      <td>1.000000</td>\n",
       "      <td>0.040000</td>\n",
       "    </tr>\n",
       "    <tr>\n",
       "      <th>25%</th>\n",
       "      <td>13488.000000</td>\n",
       "      <td>548739.000000</td>\n",
       "      <td>2.000000</td>\n",
       "      <td>1.060000</td>\n",
       "    </tr>\n",
       "    <tr>\n",
       "      <th>50%</th>\n",
       "      <td>14968.000000</td>\n",
       "      <td>560841.000000</td>\n",
       "      <td>6.000000</td>\n",
       "      <td>1.690000</td>\n",
       "    </tr>\n",
       "    <tr>\n",
       "      <th>75%</th>\n",
       "      <td>16628.000000</td>\n",
       "      <td>571676.000000</td>\n",
       "      <td>12.000000</td>\n",
       "      <td>3.450000</td>\n",
       "    </tr>\n",
       "    <tr>\n",
       "      <th>max</th>\n",
       "      <td>18287.000000</td>\n",
       "      <td>581582.000000</td>\n",
       "      <td>2880.000000</td>\n",
       "      <td>295.000000</td>\n",
       "    </tr>\n",
       "  </tbody>\n",
       "</table>\n",
       "</div>"
      ],
      "text/plain": [
       "         CustomerID      InvoiceNo      Quantity     UnitPrice\n",
       "count  91178.000000   91178.000000  91178.000000  91178.000000\n",
       "mean   15107.486707  560121.814637     12.329465      2.831267\n",
       "std     1754.016176   13203.249840     39.399646      4.437374\n",
       "min    12347.000000  536367.000000      1.000000      0.040000\n",
       "25%    13488.000000  548739.000000      2.000000      1.060000\n",
       "50%    14968.000000  560841.000000      6.000000      1.690000\n",
       "75%    16628.000000  571676.000000     12.000000      3.450000\n",
       "max    18287.000000  581582.000000   2880.000000    295.000000"
      ]
     },
     "execution_count": 15,
     "metadata": {},
     "output_type": "execute_result"
    }
   ],
   "source": [
    "codes = [\"M\", \"POST\"]\n",
    "filter = df['StockCode'].isin(codes)\n",
    "df = df[~filter]\n",
    "df.describe()"
   ]
  },
  {
   "cell_type": "code",
   "execution_count": 16,
   "metadata": {},
   "outputs": [
    {
     "data": {
      "text/html": [
       "<div>\n",
       "<style scoped>\n",
       "    .dataframe tbody tr th:only-of-type {\n",
       "        vertical-align: middle;\n",
       "    }\n",
       "\n",
       "    .dataframe tbody tr th {\n",
       "        vertical-align: top;\n",
       "    }\n",
       "\n",
       "    .dataframe thead th {\n",
       "        text-align: right;\n",
       "    }\n",
       "</style>\n",
       "<table border=\"1\" class=\"dataframe\">\n",
       "  <thead>\n",
       "    <tr style=\"text-align: right;\">\n",
       "      <th></th>\n",
       "      <th>CustomerID</th>\n",
       "      <th>InvoiceNo</th>\n",
       "      <th>InvoiceDate</th>\n",
       "      <th>StockCode</th>\n",
       "      <th>Quantity</th>\n",
       "      <th>UnitPrice</th>\n",
       "      <th>Revenue</th>\n",
       "    </tr>\n",
       "  </thead>\n",
       "  <tbody>\n",
       "    <tr>\n",
       "      <th>58800</th>\n",
       "      <td>17450</td>\n",
       "      <td>567423</td>\n",
       "      <td>2011-09-20 11:05:00</td>\n",
       "      <td>23243</td>\n",
       "      <td>1412</td>\n",
       "      <td>5.06</td>\n",
       "      <td>7144.72</td>\n",
       "    </tr>\n",
       "    <tr>\n",
       "      <th>8789</th>\n",
       "      <td>17450</td>\n",
       "      <td>540689</td>\n",
       "      <td>2011-01-11 08:43:00</td>\n",
       "      <td>22470</td>\n",
       "      <td>1284</td>\n",
       "      <td>3.21</td>\n",
       "      <td>4121.64</td>\n",
       "    </tr>\n",
       "    <tr>\n",
       "      <th>90554</th>\n",
       "      <td>15195</td>\n",
       "      <td>581115</td>\n",
       "      <td>2011-12-07 12:20:00</td>\n",
       "      <td>22413</td>\n",
       "      <td>1404</td>\n",
       "      <td>2.75</td>\n",
       "      <td>3861.00</td>\n",
       "    </tr>\n",
       "    <tr>\n",
       "      <th>58794</th>\n",
       "      <td>17450</td>\n",
       "      <td>567423</td>\n",
       "      <td>2011-09-20 11:05:00</td>\n",
       "      <td>23113</td>\n",
       "      <td>756</td>\n",
       "      <td>5.06</td>\n",
       "      <td>3825.36</td>\n",
       "    </tr>\n",
       "    <tr>\n",
       "      <th>58798</th>\n",
       "      <td>17450</td>\n",
       "      <td>567423</td>\n",
       "      <td>2011-09-20 11:05:00</td>\n",
       "      <td>22722</td>\n",
       "      <td>852</td>\n",
       "      <td>4.25</td>\n",
       "      <td>3621.00</td>\n",
       "    </tr>\n",
       "    <tr>\n",
       "      <th>...</th>\n",
       "      <td>...</td>\n",
       "      <td>...</td>\n",
       "      <td>...</td>\n",
       "      <td>...</td>\n",
       "      <td>...</td>\n",
       "      <td>...</td>\n",
       "      <td>...</td>\n",
       "    </tr>\n",
       "    <tr>\n",
       "      <th>77904</th>\n",
       "      <td>16386</td>\n",
       "      <td>575856</td>\n",
       "      <td>2011-11-11 12:28:00</td>\n",
       "      <td>16219</td>\n",
       "      <td>2</td>\n",
       "      <td>0.06</td>\n",
       "      <td>0.12</td>\n",
       "    </tr>\n",
       "    <tr>\n",
       "      <th>22683</th>\n",
       "      <td>18116</td>\n",
       "      <td>548711</td>\n",
       "      <td>2011-04-03 14:24:00</td>\n",
       "      <td>47013A</td>\n",
       "      <td>1</td>\n",
       "      <td>0.12</td>\n",
       "      <td>0.12</td>\n",
       "    </tr>\n",
       "    <tr>\n",
       "      <th>69729</th>\n",
       "      <td>17571</td>\n",
       "      <td>572103</td>\n",
       "      <td>2011-10-20 15:57:00</td>\n",
       "      <td>16048</td>\n",
       "      <td>1</td>\n",
       "      <td>0.12</td>\n",
       "      <td>0.12</td>\n",
       "    </tr>\n",
       "    <tr>\n",
       "      <th>56029</th>\n",
       "      <td>14606</td>\n",
       "      <td>565846</td>\n",
       "      <td>2011-09-07 12:41:00</td>\n",
       "      <td>20668</td>\n",
       "      <td>1</td>\n",
       "      <td>0.12</td>\n",
       "      <td>0.12</td>\n",
       "    </tr>\n",
       "    <tr>\n",
       "      <th>85129</th>\n",
       "      <td>12748</td>\n",
       "      <td>578757</td>\n",
       "      <td>2011-11-25 11:41:00</td>\n",
       "      <td>16216</td>\n",
       "      <td>1</td>\n",
       "      <td>0.06</td>\n",
       "      <td>0.06</td>\n",
       "    </tr>\n",
       "  </tbody>\n",
       "</table>\n",
       "<p>91178 rows × 7 columns</p>\n",
       "</div>"
      ],
      "text/plain": [
       "       CustomerID  InvoiceNo         InvoiceDate StockCode  Quantity  \\\n",
       "58800       17450     567423 2011-09-20 11:05:00     23243      1412   \n",
       "8789        17450     540689 2011-01-11 08:43:00     22470      1284   \n",
       "90554       15195     581115 2011-12-07 12:20:00     22413      1404   \n",
       "58794       17450     567423 2011-09-20 11:05:00     23113       756   \n",
       "58798       17450     567423 2011-09-20 11:05:00     22722       852   \n",
       "...           ...        ...                 ...       ...       ...   \n",
       "77904       16386     575856 2011-11-11 12:28:00     16219         2   \n",
       "22683       18116     548711 2011-04-03 14:24:00    47013A         1   \n",
       "69729       17571     572103 2011-10-20 15:57:00     16048         1   \n",
       "56029       14606     565846 2011-09-07 12:41:00     20668         1   \n",
       "85129       12748     578757 2011-11-25 11:41:00     16216         1   \n",
       "\n",
       "       UnitPrice  Revenue  \n",
       "58800       5.06  7144.72  \n",
       "8789        3.21  4121.64  \n",
       "90554       2.75  3861.00  \n",
       "58794       5.06  3825.36  \n",
       "58798       4.25  3621.00  \n",
       "...          ...      ...  \n",
       "77904       0.06     0.12  \n",
       "22683       0.12     0.12  \n",
       "69729       0.12     0.12  \n",
       "56029       0.12     0.12  \n",
       "85129       0.06     0.06  \n",
       "\n",
       "[91178 rows x 7 columns]"
      ]
     },
     "execution_count": 16,
     "metadata": {},
     "output_type": "execute_result"
    }
   ],
   "source": [
    "# calculate revenue\n",
    "df['Revenue'] = df['Quantity'] * df['UnitPrice']\n",
    "df.sort_values(\"Revenue\", ascending = False)"
   ]
  },
  {
   "cell_type": "code",
   "execution_count": 17,
   "metadata": {},
   "outputs": [
    {
     "data": {
      "text/plain": [
       "count    91178.000000\n",
       "mean        20.890897\n",
       "std         76.976394\n",
       "min          0.060000\n",
       "25%          4.250000\n",
       "50%         11.800000\n",
       "75%         19.500000\n",
       "max       7144.720000\n",
       "Name: Revenue, dtype: float64"
      ]
     },
     "execution_count": 17,
     "metadata": {},
     "output_type": "execute_result"
    }
   ],
   "source": [
    "df['Revenue'].describe()"
   ]
  },
  {
   "cell_type": "code",
   "execution_count": 18,
   "metadata": {},
   "outputs": [
    {
     "name": "stdout",
     "output_type": "stream",
     "text": [
      "File retail_data_clean.csv written successfully\n"
     ]
    }
   ],
   "source": [
    "# remember export data after clean for later use\n",
    "filename = \"retail_data_clean.csv\"\n",
    "df.to_csv(filename, index = False)\n",
    "print(\"File {filename} written successfully\".format(filename = filename))"
   ]
  },
  {
   "cell_type": "code",
   "execution_count": null,
   "metadata": {},
   "outputs": [],
   "source": []
  }
 ],
 "metadata": {
  "kernelspec": {
   "display_name": "base",
   "language": "python",
   "name": "python3"
  },
  "language_info": {
   "codemirror_mode": {
    "name": "ipython",
    "version": 3
   },
   "file_extension": ".py",
   "mimetype": "text/x-python",
   "name": "python",
   "nbconvert_exporter": "python",
   "pygments_lexer": "ipython3",
   "version": "3.8.8"
  },
  "orig_nbformat": 4,
  "vscode": {
   "interpreter": {
    "hash": "78f7303b88dee3ae75c02f64f20a7e835c08f59a8cfb455eb0a302f4c6f464dc"
   }
  }
 },
 "nbformat": 4,
 "nbformat_minor": 2
}
